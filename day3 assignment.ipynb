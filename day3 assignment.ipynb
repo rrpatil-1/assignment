{
 "cells": [
  {
   "cell_type": "markdown",
   "metadata": {},
   "source": [
    "# Question 1\n",
    "Write a Python program to remove duplicates from a list\n",
    "\n"
   ]
  },
  {
   "cell_type": "code",
   "execution_count": 2,
   "metadata": {},
   "outputs": [
    {
     "data": {
      "text/plain": [
       "[3, 4, 6, 7, 8, 10, 11, 12, 55, 90]"
      ]
     },
     "execution_count": 2,
     "metadata": {},
     "output_type": "execute_result"
    }
   ],
   "source": [
    "l=[12,12,3,3,55,4,6,7,8,8,90,10,11,11]\n",
    "\n",
    "s=set(l)\n",
    "l1=list(s)\n",
    "l1\n"
   ]
  },
  {
   "cell_type": "markdown",
   "metadata": {},
   "source": [
    "# Question 2\n",
    "Write a Python program to get the difference between the two lists\n"
   ]
  },
  {
   "cell_type": "code",
   "execution_count": 29,
   "metadata": {},
   "outputs": [
    {
     "name": "stdout",
     "output_type": "stream",
     "text": [
      "difference between two list= [10, 15, 20, 30]\n"
     ]
    }
   ],
   "source": [
    "L1=[10,15,20,25,30,35,40]\n",
    "L2=[25,40,35]\n",
    "l=list()\n",
    "for i in L1:\n",
    "    if i not in L2:\n",
    "        l.append(i)\n",
    "print(\"difference between two list=\",l)\n",
    "    "
   ]
  },
  {
   "cell_type": "markdown",
   "metadata": {},
   "source": [
    "# Question 3\n",
    "Write a Python program to get the frequency of the elements in a list"
   ]
  },
  {
   "cell_type": "code",
   "execution_count": 31,
   "metadata": {},
   "outputs": [
    {
     "name": "stdout",
     "output_type": "stream",
     "text": [
      "original list: [10, 10, 10, 10, 20, 20, 20, 20, 30, 30, 30, 30, 30]\n",
      "frequency of the elements in a list: Counter({30: 5, 10: 4, 20: 4})\n"
     ]
    }
   ],
   "source": [
    "import collections\n",
    "\n",
    "my_list=[10,10,10,10,20,20,20,20,30,30,30,30,30]\n",
    "print(\"original list:\",my_list)\n",
    "freq=collections.Counter(my_list)\n",
    "print(\"frequency of the elements in a list:\",freq)"
   ]
  },
  {
   "cell_type": "markdown",
   "metadata": {},
   "source": [
    "# Write a Python program to compute the similarity between two lists.\n",
    "Sample data: [\"red\", \"orange\", \"green\", \"blue\", \"white\"], [\"black\", \"yellow\", \"green\", \"blue\"]\n",
    "Expected Output: Color1-Color2: ['white', 'orange', 'red']\n",
    "Color2-Color1: ['black', 'yellow']"
   ]
  },
  {
   "cell_type": "code",
   "execution_count": 43,
   "metadata": {
    "scrolled": true
   },
   "outputs": [
    {
     "name": "stdout",
     "output_type": "stream",
     "text": [
      "frequency of list1: Counter({'red': 1, 'orange': 1, 'green': 1, 'blue': 1, 'white': 1})\n",
      "\n",
      "frequency of list2: Counter({'black': 1, 'yellow': 1, 'green': 1, 'blue': 1})\n",
      "\n",
      "Counter({'red': 1, 'orange': 1, 'white': 1})\n",
      "\n",
      "Counter({'black': 1, 'yellow': 1})\n"
     ]
    }
   ],
   "source": [
    "from collections import Counter\n",
    "\n",
    "color1= [\"red\", \"orange\", \"green\", \"blue\", \"white\"]\n",
    "color2=[\"black\", \"yellow\", \"green\", \"blue\"] \n",
    "a=Counter(color1)\n",
    "b=Counter(color2)\n",
    "\n",
    "print(\"frequency of list1:\",a)\n",
    "print()\n",
    "print(\"frequency of list2:\",b)\n",
    "print()\n",
    "\n",
    "counter1=a-b\n",
    "print(counter1)\n",
    "print()\n",
    "\n",
    "counter2=b-a\n",
    "print(counter2)"
   ]
  },
  {
   "cell_type": "code",
   "execution_count": null,
   "metadata": {},
   "outputs": [],
   "source": []
  }
 ],
 "metadata": {
  "kernelspec": {
   "display_name": "Python 3",
   "language": "python",
   "name": "python3"
  },
  "language_info": {
   "codemirror_mode": {
    "name": "ipython",
    "version": 3
   },
   "file_extension": ".py",
   "mimetype": "text/x-python",
   "name": "python",
   "nbconvert_exporter": "python",
   "pygments_lexer": "ipython3",
   "version": "3.7.6"
  }
 },
 "nbformat": 4,
 "nbformat_minor": 4
}
