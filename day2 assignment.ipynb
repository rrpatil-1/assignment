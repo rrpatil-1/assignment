{
 "cells": [
  {
   "cell_type": "markdown",
   "metadata": {},
   "source": [
    "# Questions 1\n",
    "\n",
    "#Find the value of the following questions, Where x=5\n",
    "\n"
   ]
  },
  {
   "cell_type": "code",
   "execution_count": 7,
   "metadata": {},
   "outputs": [
    {
     "name": "stdout",
     "output_type": "stream",
     "text": [
      "41.2\n"
     ]
    }
   ],
   "source": [
    "#● (2x+5/x^2+5x+6)\n",
    "x=5\n",
    "y=(2*x+5/x**2+5*x+6)\n",
    "print(y)\n",
    "\n"
   ]
  },
  {
   "cell_type": "code",
   "execution_count": 9,
   "metadata": {},
   "outputs": [
    {
     "name": "stdout",
     "output_type": "stream",
     "text": [
      "70.0\n"
     ]
    }
   ],
   "source": [
    "#● (x^2+5x+6/2x+5)\n",
    "\n",
    "y=(x**2+5*x+6/2*x+5)\n",
    "print(y)"
   ]
  },
  {
   "cell_type": "code",
   "execution_count": 10,
   "metadata": {},
   "outputs": [
    {
     "name": "stdout",
     "output_type": "stream",
     "text": [
      "-28\n"
     ]
    }
   ],
   "source": [
    "#● (2x-3)(x-9)\n",
    "y=(2*x-3)*(x-9)\n",
    "print(y)"
   ]
  },
  {
   "cell_type": "markdown",
   "metadata": {},
   "source": [
    "# Questions 2\n",
    "Create a username and password login file using nested while loop"
   ]
  },
  {
   "cell_type": "code",
   "execution_count": null,
   "metadata": {},
   "outputs": [],
   "source": []
  },
  {
   "cell_type": "code",
   "execution_count": 5,
   "metadata": {},
   "outputs": [
    {
     "name": "stdout",
     "output_type": "stream",
     "text": [
      "enter username=ij\n",
      "enter password=IN\n",
      "user does not exist.\n"
     ]
    }
   ],
   "source": [
    "user=\"India\"\n",
    "passw=\"IND\"\n",
    "\n",
    "username=input(\"enter username=\")\n",
    "password=input(\"enter password=\")\n",
    "\n",
    "if username==user and password==passw:\n",
    "    print(\"congratulation you logged succesfully.\")\n",
    "\n",
    "elif  username==user and password!=passw:\n",
    "    print(\"Incorrect password please try again.\")\n",
    "    count=1\n",
    "    while count<=5:\n",
    "        password1=input(\"enter password=\")\n",
    "        if password1==passw:\n",
    "             print(\"congratulation you logged succesfully.\")\n",
    "             break\n",
    "        count=count+1\n",
    "        if count>5:\n",
    "            print(\"your account has been block for 1hour.\")\n",
    "        \n",
    "elif username!=user and password==passw:\n",
    "    print(\"Incorrect username please try again.\")\n",
    "    j=1\n",
    "    while j<=5:\n",
    "        username1=input(\"enter username=\")\n",
    "        if username1==user:\n",
    "             print(\"congratulation you logged succesfully.\")\n",
    "             break\n",
    "        j=j+1\n",
    "        if j>5:\n",
    "            print(\"your account has been block for 1hour.\")\n",
    "            \n",
    "else:\n",
    "    print(\"user does not exist.\")\n",
    "        \n",
    "        \n",
    "        \n",
    "       \n"
   ]
  },
  {
   "cell_type": "code",
   "execution_count": null,
   "metadata": {},
   "outputs": [],
   "source": []
  },
  {
   "cell_type": "code",
   "execution_count": null,
   "metadata": {},
   "outputs": [],
   "source": []
  },
  {
   "cell_type": "code",
   "execution_count": null,
   "metadata": {},
   "outputs": [],
   "source": []
  }
 ],
 "metadata": {
  "kernelspec": {
   "display_name": "Python 3",
   "language": "python",
   "name": "python3"
  },
  "language_info": {
   "codemirror_mode": {
    "name": "ipython",
    "version": 3
   },
   "file_extension": ".py",
   "mimetype": "text/x-python",
   "name": "python",
   "nbconvert_exporter": "python",
   "pygments_lexer": "ipython3",
   "version": "3.7.6"
  }
 },
 "nbformat": 4,
 "nbformat_minor": 4
}
