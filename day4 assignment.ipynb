{
 "cells": [
  {
   "cell_type": "markdown",
   "metadata": {},
   "source": [
    "# Question 1\n",
    "# Write a Python function to find the Max of three numbers.     "
   ]
  },
  {
   "cell_type": "code",
   "execution_count": 3,
   "metadata": {},
   "outputs": [
    {
     "name": "stdout",
     "output_type": "stream",
     "text": [
      "44 is max\n"
     ]
    }
   ],
   "source": [
    "def max(a,b,c):\n",
    "    if a>b and a>c:\n",
    "        print(\"{} is max\".format(a))\n",
    "        \n",
    "    elif b>a and b>c:\n",
    "        print(\"{} is max\".format(b))\n",
    "        \n",
    "    else:\n",
    "        print(\"{} is max\".format(c))\n",
    "        \n",
    "max(12,23,44)\n"
   ]
  },
  {
   "cell_type": "markdown",
   "metadata": {},
   "source": [
    "# Question 2\n",
    "# Write a Python function that checks whether a passed string is palindrome or not"
   ]
  },
  {
   "cell_type": "code",
   "execution_count": 7,
   "metadata": {},
   "outputs": [
    {
     "name": "stdout",
     "output_type": "stream",
     "text": [
      "enter srting=DND\n",
      "your input= DND\n",
      "reverse= DND\n",
      "\n",
      "its a palindrome\n"
     ]
    }
   ],
   "source": [
    "def palindrome():\n",
    "    name=input(\"enter srting=\")\n",
    "    palindrome=name.find(name[::-1])==0\n",
    "\n",
    "    if palindrome==True:\n",
    "        print(\"your input=\",name)\n",
    "        print(\"reverse=\",name[::-1])\n",
    "        print()\n",
    "        print(\"its a palindrome\")\n",
    "\n",
    "    else:\n",
    "        print(\"your string=\",name)\n",
    "        print(\"reverse of string=\",name[::-1])\n",
    "        print()\n",
    "        print(\"its not a palindrome\")\n",
    "        \n",
    "palindrome()   "
   ]
  },
  {
   "cell_type": "markdown",
   "metadata": {},
   "source": [
    "# Question 3\n",
    "# Write a Python function that accepts a string and calculate the number of uppercase letters and lowercase letters"
   ]
  },
  {
   "cell_type": "code",
   "execution_count": 8,
   "metadata": {},
   "outputs": [
    {
     "name": "stdout",
     "output_type": "stream",
     "text": [
      "enter string:Rahul Patil\n",
      "Lower case characters:  8\n",
      "Upper case characters:  2\n"
     ]
    }
   ],
   "source": [
    "def upperlower(string): \n",
    "  \n",
    "    s = string\n",
    "    l,u = 0,0\n",
    "    for i in s: \n",
    "        if (i>='a'and i<='z'): \n",
    "\n",
    "            # counting lower case \n",
    "            l=l+1                 \n",
    "        if (i>='A'and i<='Z'): \n",
    "\n",
    "            #counting upper case \n",
    "            u=u+1   \n",
    "          \n",
    "    print('Lower case characters: ',l) \n",
    "    print('Upper case characters: ',u) \n",
    "    \n",
    "string=input(\"enter string:\")\n",
    "\n",
    "upperlower(string)"
   ]
  },
  {
   "cell_type": "markdown",
   "metadata": {},
   "source": [
    "# Question 4\n",
    "# Write a Python function to sum all the numbers in a list"
   ]
  },
  {
   "cell_type": "code",
   "execution_count": 9,
   "metadata": {},
   "outputs": [
    {
     "name": "stdout",
     "output_type": "stream",
     "text": [
      "sum all the numbers in a list= 10\n"
     ]
    }
   ],
   "source": [
    "def sum_(*a):\n",
    "    sum=0\n",
    "    for i in a:\n",
    "        sum=sum+i\n",
    "    print(\"sum all the numbers in a list=\",sum)\n",
    "    \n",
    "sum_(1,2,3,4)"
   ]
  },
  {
   "cell_type": "markdown",
   "metadata": {},
   "source": [
    "\n",
    "# Question 5\n",
    "# Write a Python function to multiply all the numbers in a list"
   ]
  },
  {
   "cell_type": "code",
   "execution_count": 13,
   "metadata": {},
   "outputs": [
    {
     "name": "stdout",
     "output_type": "stream",
     "text": [
      "multiplication all the numbers in a list= 24\n"
     ]
    }
   ],
   "source": [
    "def multiply(*a):\n",
    "    mult=1\n",
    "    for i in a:\n",
    "        mult=mult*i\n",
    "    print(\"multiplication all the numbers in a list=\",mult)\n",
    "    \n",
    "multiply(1,2,3,4)"
   ]
  },
  {
   "cell_type": "code",
   "execution_count": 17,
   "metadata": {},
   "outputs": [
    {
     "name": "stdout",
     "output_type": "stream",
     "text": [
      "inside_function: 10\n",
      "20\n",
      "outside: 10\n"
     ]
    }
   ],
   "source": [
    "x=20\n",
    "def add():\n",
    "    global y\n",
    "    y=10\n",
    "    print(\"inside_function:\",y)\n",
    "    print(x)\n",
    "    \n",
    "add()\n",
    "print(\"outside:\",y)"
   ]
  },
  {
   "cell_type": "markdown",
   "metadata": {},
   "source": [
    "# Question 6\n",
    "# Write a Python function that takes a list and returns a new list with unique elements of the first list"
   ]
  },
  {
   "cell_type": "code",
   "execution_count": 38,
   "metadata": {},
   "outputs": [
    {
     "name": "stdout",
     "output_type": "stream",
     "text": [
      "the unique values from  list is\n",
      "40\n",
      "10\n",
      "20\n",
      "30\n",
      "\n",
      "the unique values from 2nd list is\n",
      "1\n",
      "2\n",
      "3\n",
      "4\n",
      "5\n"
     ]
    }
   ],
   "source": [
    "def unique(list1): \n",
    "      \n",
    "    # insert the list to the set \n",
    "    list_set = set(list1) \n",
    "    # convert the set to the list \n",
    "    unique_list = (list(list_set)) \n",
    "    for x in unique_list: \n",
    "        print(x )\n",
    "      \n",
    "  \n",
    "# driver code \n",
    "list1 = [10, 20, 10, 30, 40, 40] \n",
    "print(\"the unique values from  list is\") \n",
    "unique(list1) \n",
    "  \n",
    "  \n",
    "list2 =[1, 2, 1, 1, 3, 4, 3, 3, 5] \n",
    "print(\"\\nthe unique values from 2nd list is\") \n",
    "unique(list2)"
   ]
  },
  {
   "cell_type": "code",
   "execution_count": null,
   "metadata": {},
   "outputs": [],
   "source": []
  }
 ],
 "metadata": {
  "kernelspec": {
   "display_name": "Python 3",
   "language": "python",
   "name": "python3"
  },
  "language_info": {
   "codemirror_mode": {
    "name": "ipython",
    "version": 3
   },
   "file_extension": ".py",
   "mimetype": "text/x-python",
   "name": "python",
   "nbconvert_exporter": "python",
   "pygments_lexer": "ipython3",
   "version": "3.7.6"
  }
 },
 "nbformat": 4,
 "nbformat_minor": 4
}
