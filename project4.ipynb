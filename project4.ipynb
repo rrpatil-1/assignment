{
 "cells": [
  {
   "cell_type": "markdown",
   "metadata": {},
   "source": [
    "# sending mail using python"
   ]
  },
  {
   "cell_type": "code",
   "execution_count": null,
   "metadata": {},
   "outputs": [],
   "source": [
    "import smtplib\n",
    "#pip install smtplib\n",
    "s=smtplib.SMTP(\"smtp.gmail.com\",587)\n",
    "\n",
    "#security\n",
    "s.starttls()\n",
    "s.login(\"rrp30998@gmail.com\",\"kjabysiyuxtjde\")\n",
    "for i in range(5):\n",
    "    \n",
    "    msg=input(\"enter your messege=\")\n",
    "    s.sendmail(\"rrp30998@gmail.com\",\"rrp30998@gmail.com\",msg)\n",
    "\n",
    "s.quit()"
   ]
  }
 ],
 "metadata": {
  "kernelspec": {
   "display_name": "Python 3",
   "language": "python",
   "name": "python3"
  },
  "language_info": {
   "codemirror_mode": {
    "name": "ipython",
    "version": 3
   },
   "file_extension": ".py",
   "mimetype": "text/x-python",
   "name": "python",
   "nbconvert_exporter": "python",
   "pygments_lexer": "ipython3",
   "version": "3.7.6"
  }
 },
 "nbformat": 4,
 "nbformat_minor": 4
}
